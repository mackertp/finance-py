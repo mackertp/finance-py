{
 "cells": [
  {
   "cell_type": "markdown",
   "id": "2f8347d0-7b5e-49df-b1dc-9b9cc3ec9a11",
   "metadata": {},
   "source": [
    "# Ordering API\n",
    "\n",
    "<span style=\"color:red\">\n",
    "    To use the notebook, ensure that _auth is running. The orders API is not built out yet.\n",
    "</span>."
   ]
  },
  {
   "cell_type": "code",
   "execution_count": 1,
   "id": "0a1fd055-64b9-455a-bf76-a185cdd1447f",
   "metadata": {},
   "outputs": [],
   "source": [
    "import settings.schwab as schwab"
   ]
  },
  {
   "cell_type": "code",
   "execution_count": 2,
   "id": "566dd2b5-9319-42e5-942e-4ec942482c38",
   "metadata": {},
   "outputs": [],
   "source": [
    "pp = schwab.pprint.PrettyPrinter(indent=2)"
   ]
  },
  {
   "cell_type": "markdown",
   "id": "b85d9358-f6cd-431c-bd9f-b28865b40be7",
   "metadata": {},
   "source": [
    "**Authenticate**"
   ]
  },
  {
   "cell_type": "code",
   "execution_count": 3,
   "id": "aa4d4414-1f24-42b2-a791-38144c2a2335",
   "metadata": {},
   "outputs": [],
   "source": [
    "auth = schwab.Authenticator()"
   ]
  },
  {
   "cell_type": "markdown",
   "id": "9626986e-17c6-4380-922e-f2f086613102",
   "metadata": {},
   "source": [
    "### Order History\n",
    "\n",
    "Still need to build this class out."
   ]
  },
  {
   "cell_type": "code",
   "execution_count": 4,
   "id": "dee2db46-aeb4-4746-807b-aff1e68808c4",
   "metadata": {},
   "outputs": [],
   "source": [
    "start_date = schwab.date(2024, 4, 1).isoformat()\n",
    "end_date = schwab.datetime.now().isoformat()"
   ]
  },
  {
   "cell_type": "code",
   "execution_count": 5,
   "id": "3a86a522-2f91-4e9f-b6b3-5de7474efefc",
   "metadata": {},
   "outputs": [
    {
     "name": "stdout",
     "output_type": "stream",
     "text": [
      "{'message': 'Invalid account number'}\n"
     ]
    }
   ],
   "source": [
    "account = schwab.Account(auth)\n",
    "pp.pprint(account.get_orders(start_date, end_date))"
   ]
  }
 ],
 "metadata": {
  "kernelspec": {
   "display_name": "pyfi",
   "language": "python",
   "name": "pyfi"
  },
  "language_info": {
   "codemirror_mode": {
    "name": "ipython",
    "version": 3
   },
   "file_extension": ".py",
   "mimetype": "text/x-python",
   "name": "python",
   "nbconvert_exporter": "python",
   "pygments_lexer": "ipython3",
   "version": "3.12.3"
  }
 },
 "nbformat": 4,
 "nbformat_minor": 5
}
