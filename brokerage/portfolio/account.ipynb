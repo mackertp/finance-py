{
 "cells": [
  {
   "cell_type": "markdown",
   "id": "3cf3e5c0-db8f-4642-ba1b-588e02808554",
   "metadata": {},
   "source": [
    "# Accounts API\n",
    "\n",
    "The *Trader* API added to the custom application in the [Schwab Portal](https://beta-developer.schwab.com/dashboard/apps/app/9d1f94fd-2b0d-4477-9fcb-68cfee615ff1) allows us to grab data from an authenticated user's account.\n",
    "\n",
    "<span style=\"color:red\">\n",
    "    To use the notebook, ensure that _auth is running.\n",
    "</span>."
   ]
  },
  {
   "cell_type": "code",
   "execution_count": 1,
   "id": "37df4fda-2bad-4e13-9e38-3ec43239d744",
   "metadata": {},
   "outputs": [],
   "source": [
    "import settings.schwab as schwab"
   ]
  },
  {
   "cell_type": "code",
   "execution_count": 2,
   "id": "e8c50420-9aca-46fd-b9d7-26e6d7c8829c",
   "metadata": {},
   "outputs": [],
   "source": [
    "pp = schwab.pprint.PrettyPrinter(indent=2)"
   ]
  },
  {
   "cell_type": "markdown",
   "id": "83e603ac-3638-4b6d-b3c2-ed86cdf74a59",
   "metadata": {},
   "source": [
    "**Authenticate**"
   ]
  },
  {
   "cell_type": "code",
   "execution_count": 3,
   "id": "3b8e57d0-61b6-4797-939f-f055f893616d",
   "metadata": {},
   "outputs": [],
   "source": [
    "auth = schwab.Authenticator()"
   ]
  },
  {
   "cell_type": "markdown",
   "id": "5e008902-ca5e-42d4-9595-a29616052678",
   "metadata": {},
   "source": [
    "Below, the access token is used to retrieve all account details for the authenticated user to create an instance of an 'Account'. An account in Schwab may have multiple children (i.e. Brokerage, Savings, Retirement). We are focused on the trading accounts for this API:"
   ]
  },
  {
   "cell_type": "code",
   "execution_count": 4,
   "id": "4d12a3c7-5e8a-4109-af7c-84b743dfdd86",
   "metadata": {},
   "outputs": [
    {
     "name": "stdout",
     "output_type": "stream",
     "text": [
      "False\n"
     ]
    }
   ],
   "source": [
    "account = schwab.Account(auth)\n",
    "print(account.get_accounts()[0]['securitiesAccount']['isDayTrader'])\n",
    "# pp.pprint(account.get_accounts())"
   ]
  },
  {
   "cell_type": "markdown",
   "id": "cf6bc3ea-60aa-47e4-bebc-40d3fa917585",
   "metadata": {},
   "source": [
    "**Detail**\n",
    "\n",
    "This endpoint is currently sending an unauthorized response. It should be pulling the :"
   ]
  },
  {
   "cell_type": "code",
   "execution_count": 5,
   "id": "0947e2f2-e179-404e-97b7-011a875abbbd",
   "metadata": {},
   "outputs": [],
   "source": [
    "# pp.pprint(account.get_account_detail('xxxxxxxx'))"
   ]
  },
  {
   "cell_type": "markdown",
   "id": "b39cc514-a30d-4ec3-b102-837ddcd2e680",
   "metadata": {},
   "source": [
    "**Numbers**\n",
    "\n",
    "The request above is pulling all account details, a more narrow dictionary is available to pull a list of account IDs:"
   ]
  },
  {
   "cell_type": "code",
   "execution_count": 6,
   "id": "fdc7c5b9-165c-4080-a6b3-4b971f41b369",
   "metadata": {},
   "outputs": [],
   "source": [
    "# pp.pprint(account.get_account_numbers())"
   ]
  },
  {
   "cell_type": "markdown",
   "id": "f1a1de31-53c6-436d-a51a-0c22567ebf5e",
   "metadata": {},
   "source": [
    "**Preferences**\n",
    "\n",
    "Preferences (customizable fields) are also able to be requested from an account instance:"
   ]
  },
  {
   "cell_type": "code",
   "execution_count": 7,
   "id": "ceefee2b-8e61-4da8-b26b-5d328f82e3f9",
   "metadata": {},
   "outputs": [
    {
     "name": "stdout",
     "output_type": "stream",
     "text": [
      "BROKERAGE\n",
      "APIAPP\n"
     ]
    }
   ],
   "source": [
    "print(account.get_preferences()['accounts'][0]['type'])\n",
    "print(account.get_preferences()['streamerInfo'][0]['schwabClientFunctionId'])\n",
    "# pp.pprint(account.get_preferences())"
   ]
  }
 ],
 "metadata": {
  "kernelspec": {
   "display_name": "pyfi",
   "language": "python",
   "name": "pyfi"
  },
  "language_info": {
   "codemirror_mode": {
    "name": "ipython",
    "version": 3
   },
   "file_extension": ".py",
   "mimetype": "text/x-python",
   "name": "python",
   "nbconvert_exporter": "python",
   "pygments_lexer": "ipython3",
   "version": "3.12.3"
  }
 },
 "nbformat": 4,
 "nbformat_minor": 5
}
