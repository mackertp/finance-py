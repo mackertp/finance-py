{
 "cells": [
  {
   "cell_type": "markdown",
   "id": "0ebfb5ac-b784-4c1c-8526-4e29d3876784",
   "metadata": {},
   "source": [
    "# Market Data API\n",
    "\n",
    "Schwab's Trader API has the ability to retrieve market data for given positions. \n",
    "\n",
    "<span style=\"color:red\">\n",
    "    To use the notebook, ensure that _auth is running.\n",
    "</span>."
   ]
  },
  {
   "cell_type": "code",
   "execution_count": 1,
   "id": "5864eaac-4b17-47bc-ad00-b604b03be778",
   "metadata": {},
   "outputs": [],
   "source": [
    "import settings.schwab as schwab"
   ]
  },
  {
   "cell_type": "code",
   "execution_count": 2,
   "id": "e286c039-4df4-40f6-8044-43940d3ae48d",
   "metadata": {},
   "outputs": [],
   "source": [
    "pp = schwab.pprint.PrettyPrinter(indent=4)"
   ]
  },
  {
   "cell_type": "markdown",
   "id": "7ac59317-1d32-454f-bc9c-e6bfe6f1d682",
   "metadata": {},
   "source": [
    "**Authenticate**"
   ]
  },
  {
   "cell_type": "code",
   "execution_count": 3,
   "id": "5285d033-0498-48e9-bb86-83933466026b",
   "metadata": {},
   "outputs": [],
   "source": [
    "auth = schwab.Authenticator()"
   ]
  },
  {
   "cell_type": "markdown",
   "id": "c0c637ad-9b1a-4563-901e-a0d42e6dfde2",
   "metadata": {},
   "source": [
    "## Load Portfolio\n",
    "\n",
    "Positions to track within the given portfolio are stored in a json file for easy storage and retrieval. A few indexes are included as a benchmark."
   ]
  },
  {
   "cell_type": "code",
   "execution_count": 4,
   "id": "7171419f-5896-4ffe-82f8-cafb250aebc9",
   "metadata": {},
   "outputs": [],
   "source": [
    "portfolio = open('./symbols.json')\n",
    "instruments = schwab.json.load(portfolio)\n",
    "portfolio.close()"
   ]
  },
  {
   "cell_type": "code",
   "execution_count": 5,
   "id": "07ac2734-714b-4a29-bdc4-809c4b0be00c",
   "metadata": {},
   "outputs": [
    {
     "name": "stdout",
     "output_type": "stream",
     "text": [
      "DJIA     | Dow Jones Industrial Average\n",
      "SWPPX    | Schwab S&P 500 Index Fund\n",
      "SWANX    | Schwab Core Equity Fund\n",
      "SFLNX    | Schwab Fundamental US Large Company Index Fund\n"
     ]
    }
   ],
   "source": [
    "for symbol in instruments.keys():\n",
    "    print('{:8s} | {}'.format(symbol, instruments[symbol]))"
   ]
  },
  {
   "cell_type": "markdown",
   "id": "7e2eb569-23f7-4df1-a51c-e36ab11de918",
   "metadata": {},
   "source": [
    "### Analyze Positions\n",
    "\n",
    "Market data can now be pulled from the Schwab API endpoints. Select a ticker to analyze: "
   ]
  },
  {
   "cell_type": "code",
   "execution_count": 6,
   "id": "f8267f4f-c404-4abd-8aa8-ba4f6449271a",
   "metadata": {},
   "outputs": [
    {
     "name": "stdin",
     "output_type": "stream",
     "text": [
      "ticker: SWPPX\n"
     ]
    }
   ],
   "source": [
    "symbol = input('ticker:')"
   ]
  },
  {
   "cell_type": "code",
   "execution_count": 7,
   "id": "c312f3ed-6649-4d8d-8445-4c83bfbb5f7e",
   "metadata": {},
   "outputs": [
    {
     "data": {
      "text/plain": [
       "{'SWPPX': {'assetMainType': 'MUTUAL_FUND',\n",
       "  'assetSubType': 'OEF',\n",
       "  'realtime': True,\n",
       "  'ssid': 871601704,\n",
       "  'symbol': 'SWPPX',\n",
       "  'fundamental': {'avg10DaysVolume': 0.0,\n",
       "   'avg1YearVolume': 0.0,\n",
       "   'declarationDate': '2023-12-08T05:00:00Z',\n",
       "   'divAmount': 1.0464,\n",
       "   'divExDate': '2023-12-08T05:00:00Z',\n",
       "   'divFreq': 1,\n",
       "   'divPayAmount': 1.0464,\n",
       "   'divPayDate': '2023-12-08T05:00:00Z',\n",
       "   'divYield': 1.18371,\n",
       "   'eps': 0.0,\n",
       "   'fundLeverageFactor': 0.0,\n",
       "   'lastEarningsDate': '2024-07-02T04:00:00Z',\n",
       "   'nextDivExDate': '2024-12-09T05:00:00Z',\n",
       "   'nextDivPayDate': '2024-12-09T05:00:00Z',\n",
       "   'peRatio': 0.0},\n",
       "  'quote': {'52WeekHigh': 93.02,\n",
       "   '52WeekLow': 69.99,\n",
       "   'lastPrice': 91.02,\n",
       "   'closePrice': 92.23,\n",
       "   'nAV': 91.02,\n",
       "   'netChange': -1.21,\n",
       "   'netPercentChange': -1.31193755,\n",
       "   'securityStatus': 'Normal',\n",
       "   'tradeTime': 1731714300000},\n",
       "  'reference': {'cusip': '808509855',\n",
       "   'description': 'SCHWAB S&P 500 INDEX',\n",
       "   'exchange': '3',\n",
       "   'exchangeName': 'Mutual Fund'}}}"
      ]
     },
     "execution_count": 7,
     "metadata": {},
     "output_type": "execute_result"
    }
   ],
   "source": [
    "position = schwab.Position(auth, symbol)\n",
    "position.get_quotes()"
   ]
  },
  {
   "cell_type": "markdown",
   "id": "ed8f05c6-bff6-4edd-bf47-fe56fee29d3e",
   "metadata": {},
   "source": [
    "### Pricing History\n",
    "\n",
    "The Market Data API is working, but I'm still working through some of the parameters and response conditions. Start by sending a start and end date in isoformat."
   ]
  },
  {
   "cell_type": "code",
   "execution_count": 8,
   "id": "b0b44bbb-55bf-4f5a-a354-bd79f62434ea",
   "metadata": {},
   "outputs": [],
   "source": [
    "start_date = schwab.date(2024, 4, 1).isoformat()\n",
    "end_date = schwab.datetime.now().isoformat()"
   ]
  },
  {
   "cell_type": "markdown",
   "id": "724665f5-7608-42d8-a9c3-b4ec3e7471d8",
   "metadata": {},
   "source": [
    "The pricing history response:"
   ]
  },
  {
   "cell_type": "code",
   "execution_count": 9,
   "id": "7f185071-14ad-4fe2-b37d-37224aef0671",
   "metadata": {},
   "outputs": [
    {
     "data": {
      "text/html": [
       "<div>\n",
       "<style scoped>\n",
       "    .dataframe tbody tr th:only-of-type {\n",
       "        vertical-align: middle;\n",
       "    }\n",
       "\n",
       "    .dataframe tbody tr th {\n",
       "        vertical-align: top;\n",
       "    }\n",
       "\n",
       "    .dataframe thead th {\n",
       "        text-align: right;\n",
       "    }\n",
       "</style>\n",
       "<table border=\"1\" class=\"dataframe\">\n",
       "  <thead>\n",
       "    <tr style=\"text-align: right;\">\n",
       "      <th></th>\n",
       "      <th>open</th>\n",
       "      <th>high</th>\n",
       "      <th>low</th>\n",
       "      <th>close</th>\n",
       "      <th>volume</th>\n",
       "      <th>datetime</th>\n",
       "    </tr>\n",
       "  </thead>\n",
       "  <tbody>\n",
       "    <tr>\n",
       "      <th>0</th>\n",
       "      <td>89.61</td>\n",
       "      <td>89.61</td>\n",
       "      <td>89.61</td>\n",
       "      <td>89.61</td>\n",
       "      <td>0</td>\n",
       "      <td>2024-11-05 23:20:00</td>\n",
       "    </tr>\n",
       "    <tr>\n",
       "      <th>1</th>\n",
       "      <td>91.87</td>\n",
       "      <td>91.87</td>\n",
       "      <td>91.87</td>\n",
       "      <td>91.87</td>\n",
       "      <td>0</td>\n",
       "      <td>2024-11-06 23:38:00</td>\n",
       "    </tr>\n",
       "    <tr>\n",
       "      <th>2</th>\n",
       "      <td>92.56</td>\n",
       "      <td>92.56</td>\n",
       "      <td>92.56</td>\n",
       "      <td>92.56</td>\n",
       "      <td>0</td>\n",
       "      <td>2024-11-07 23:11:00</td>\n",
       "    </tr>\n",
       "    <tr>\n",
       "      <th>3</th>\n",
       "      <td>92.93</td>\n",
       "      <td>92.93</td>\n",
       "      <td>92.93</td>\n",
       "      <td>92.93</td>\n",
       "      <td>0</td>\n",
       "      <td>2024-11-08 23:21:00</td>\n",
       "    </tr>\n",
       "    <tr>\n",
       "      <th>4</th>\n",
       "      <td>93.02</td>\n",
       "      <td>93.02</td>\n",
       "      <td>93.02</td>\n",
       "      <td>93.02</td>\n",
       "      <td>0</td>\n",
       "      <td>2024-11-11 23:22:00</td>\n",
       "    </tr>\n",
       "    <tr>\n",
       "      <th>5</th>\n",
       "      <td>92.75</td>\n",
       "      <td>92.75</td>\n",
       "      <td>92.75</td>\n",
       "      <td>92.75</td>\n",
       "      <td>0</td>\n",
       "      <td>2024-11-12 23:21:00</td>\n",
       "    </tr>\n",
       "    <tr>\n",
       "      <th>6</th>\n",
       "      <td>92.78</td>\n",
       "      <td>92.78</td>\n",
       "      <td>92.78</td>\n",
       "      <td>92.78</td>\n",
       "      <td>0</td>\n",
       "      <td>2024-11-13 23:12:00</td>\n",
       "    </tr>\n",
       "    <tr>\n",
       "      <th>7</th>\n",
       "      <td>92.23</td>\n",
       "      <td>92.23</td>\n",
       "      <td>92.23</td>\n",
       "      <td>92.23</td>\n",
       "      <td>0</td>\n",
       "      <td>2024-11-14 23:17:00</td>\n",
       "    </tr>\n",
       "    <tr>\n",
       "      <th>8</th>\n",
       "      <td>91.02</td>\n",
       "      <td>91.02</td>\n",
       "      <td>91.02</td>\n",
       "      <td>91.02</td>\n",
       "      <td>0</td>\n",
       "      <td>2024-11-15 23:11:00</td>\n",
       "    </tr>\n",
       "  </tbody>\n",
       "</table>\n",
       "</div>"
      ],
      "text/plain": [
       "    open   high    low  close  volume            datetime\n",
       "0  89.61  89.61  89.61  89.61       0 2024-11-05 23:20:00\n",
       "1  91.87  91.87  91.87  91.87       0 2024-11-06 23:38:00\n",
       "2  92.56  92.56  92.56  92.56       0 2024-11-07 23:11:00\n",
       "3  92.93  92.93  92.93  92.93       0 2024-11-08 23:21:00\n",
       "4  93.02  93.02  93.02  93.02       0 2024-11-11 23:22:00\n",
       "5  92.75  92.75  92.75  92.75       0 2024-11-12 23:21:00\n",
       "6  92.78  92.78  92.78  92.78       0 2024-11-13 23:12:00\n",
       "7  92.23  92.23  92.23  92.23       0 2024-11-14 23:17:00\n",
       "8  91.02  91.02  91.02  91.02       0 2024-11-15 23:11:00"
      ]
     },
     "execution_count": 9,
     "metadata": {},
     "output_type": "execute_result"
    }
   ],
   "source": [
    "position.get_price_history(start_date, end_date)\n",
    "position.price_history"
   ]
  },
  {
   "cell_type": "code",
   "execution_count": 10,
   "id": "2ec06027-7619-4b4b-b9cb-4c86cc5aa1f6",
   "metadata": {},
   "outputs": [
    {
     "data": {
      "text/html": [
       "<div>\n",
       "<style scoped>\n",
       "    .dataframe tbody tr th:only-of-type {\n",
       "        vertical-align: middle;\n",
       "    }\n",
       "\n",
       "    .dataframe tbody tr th {\n",
       "        vertical-align: top;\n",
       "    }\n",
       "\n",
       "    .dataframe thead th {\n",
       "        text-align: right;\n",
       "    }\n",
       "</style>\n",
       "<table border=\"1\" class=\"dataframe\">\n",
       "  <thead>\n",
       "    <tr style=\"text-align: right;\">\n",
       "      <th></th>\n",
       "      <th>open</th>\n",
       "      <th>high</th>\n",
       "      <th>low</th>\n",
       "      <th>close</th>\n",
       "      <th>volume</th>\n",
       "      <th>datetime</th>\n",
       "    </tr>\n",
       "  </thead>\n",
       "  <tbody>\n",
       "    <tr>\n",
       "      <th>0</th>\n",
       "      <td>22.490</td>\n",
       "      <td>22.490</td>\n",
       "      <td>22.490</td>\n",
       "      <td>22.4900</td>\n",
       "      <td>196</td>\n",
       "      <td>2024-11-04 13:59:00</td>\n",
       "    </tr>\n",
       "    <tr>\n",
       "      <th>1</th>\n",
       "      <td>22.760</td>\n",
       "      <td>22.760</td>\n",
       "      <td>22.760</td>\n",
       "      <td>22.7600</td>\n",
       "      <td>2736</td>\n",
       "      <td>2024-11-04 14:30:00</td>\n",
       "    </tr>\n",
       "    <tr>\n",
       "      <th>2</th>\n",
       "      <td>22.710</td>\n",
       "      <td>22.710</td>\n",
       "      <td>22.710</td>\n",
       "      <td>22.7100</td>\n",
       "      <td>100</td>\n",
       "      <td>2024-11-04 14:33:00</td>\n",
       "    </tr>\n",
       "    <tr>\n",
       "      <th>3</th>\n",
       "      <td>22.704</td>\n",
       "      <td>22.704</td>\n",
       "      <td>22.704</td>\n",
       "      <td>22.7040</td>\n",
       "      <td>100</td>\n",
       "      <td>2024-11-04 14:35:00</td>\n",
       "    </tr>\n",
       "    <tr>\n",
       "      <th>4</th>\n",
       "      <td>22.700</td>\n",
       "      <td>22.700</td>\n",
       "      <td>22.680</td>\n",
       "      <td>22.6999</td>\n",
       "      <td>342</td>\n",
       "      <td>2024-11-04 14:36:00</td>\n",
       "    </tr>\n",
       "    <tr>\n",
       "      <th>...</th>\n",
       "      <td>...</td>\n",
       "      <td>...</td>\n",
       "      <td>...</td>\n",
       "      <td>...</td>\n",
       "      <td>...</td>\n",
       "      <td>...</td>\n",
       "    </tr>\n",
       "    <tr>\n",
       "      <th>690</th>\n",
       "      <td>23.490</td>\n",
       "      <td>23.490</td>\n",
       "      <td>23.490</td>\n",
       "      <td>23.4900</td>\n",
       "      <td>100</td>\n",
       "      <td>2024-11-15 20:46:00</td>\n",
       "    </tr>\n",
       "    <tr>\n",
       "      <th>691</th>\n",
       "      <td>23.520</td>\n",
       "      <td>23.560</td>\n",
       "      <td>23.520</td>\n",
       "      <td>23.5600</td>\n",
       "      <td>9915</td>\n",
       "      <td>2024-11-15 20:55:00</td>\n",
       "    </tr>\n",
       "    <tr>\n",
       "      <th>692</th>\n",
       "      <td>23.520</td>\n",
       "      <td>23.520</td>\n",
       "      <td>23.520</td>\n",
       "      <td>23.5200</td>\n",
       "      <td>200</td>\n",
       "      <td>2024-11-15 20:56:00</td>\n",
       "    </tr>\n",
       "    <tr>\n",
       "      <th>693</th>\n",
       "      <td>23.520</td>\n",
       "      <td>23.520</td>\n",
       "      <td>23.520</td>\n",
       "      <td>23.5200</td>\n",
       "      <td>200</td>\n",
       "      <td>2024-11-15 20:58:00</td>\n",
       "    </tr>\n",
       "    <tr>\n",
       "      <th>694</th>\n",
       "      <td>23.470</td>\n",
       "      <td>23.470</td>\n",
       "      <td>23.470</td>\n",
       "      <td>23.4700</td>\n",
       "      <td>687</td>\n",
       "      <td>2024-11-15 21:00:00</td>\n",
       "    </tr>\n",
       "  </tbody>\n",
       "</table>\n",
       "<p>695 rows × 6 columns</p>\n",
       "</div>"
      ],
      "text/plain": [
       "       open    high     low    close  volume            datetime\n",
       "0    22.490  22.490  22.490  22.4900     196 2024-11-04 13:59:00\n",
       "1    22.760  22.760  22.760  22.7600    2736 2024-11-04 14:30:00\n",
       "2    22.710  22.710  22.710  22.7100     100 2024-11-04 14:33:00\n",
       "3    22.704  22.704  22.704  22.7040     100 2024-11-04 14:35:00\n",
       "4    22.700  22.700  22.680  22.6999     342 2024-11-04 14:36:00\n",
       "..      ...     ...     ...      ...     ...                 ...\n",
       "690  23.490  23.490  23.490  23.4900     100 2024-11-15 20:46:00\n",
       "691  23.520  23.560  23.520  23.5600    9915 2024-11-15 20:55:00\n",
       "692  23.520  23.520  23.520  23.5200     200 2024-11-15 20:56:00\n",
       "693  23.520  23.520  23.520  23.5200     200 2024-11-15 20:58:00\n",
       "694  23.470  23.470  23.470  23.4700     687 2024-11-15 21:00:00\n",
       "\n",
       "[695 rows x 6 columns]"
      ]
     },
     "execution_count": 10,
     "metadata": {},
     "output_type": "execute_result"
    }
   ],
   "source": [
    "position = schwab.Position(auth, 'DJIA')\n",
    "position.get_price_history(start_date, end_date)\n",
    "position.price_history"
   ]
  },
  {
   "cell_type": "markdown",
   "id": "96221cec-815f-4a97-9e7e-e3df2ca7ceea",
   "metadata": {},
   "source": [
    "The [yfinance](https://pypi.org/project/yfinance/) library (outlined in the \"research\" folder of this repository) will allow  you to conduct market analysis without authentication or a brokerage account."
   ]
  }
 ],
 "metadata": {
  "kernelspec": {
   "display_name": "pyfi",
   "language": "python",
   "name": "pyfi"
  },
  "language_info": {
   "codemirror_mode": {
    "name": "ipython",
    "version": 3
   },
   "file_extension": ".py",
   "mimetype": "text/x-python",
   "name": "python",
   "nbconvert_exporter": "python",
   "pygments_lexer": "ipython3",
   "version": "3.12.3"
  }
 },
 "nbformat": 4,
 "nbformat_minor": 5
}
