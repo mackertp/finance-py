{
 "cells": [
  {
   "attachments": {},
   "cell_type": "markdown",
   "id": "0661f65d-063f-46b0-add4-7dbb12b84ad0",
   "metadata": {},
   "source": [
    "![](https://i.insider.com/5fad523f8a86ff001880b26c?width=300)\n",
    "\n",
    "The [Schwab Developer Portal](https://beta-developer.schwab.com/dashboard/apps/app/9d1f94fd-2b0d-4477-9fcb-68cfee615ff1) houses API products that allow you to connect into brokerage accounts. \n",
    "\n",
    "Before getting started, it is necessary to have a Schwab brokerage account, an individual trader account in their developer portal approved, and an app created in the portal. \n",
    "\n",
    "Once these are set up, add two API products to the app:\n",
    "\n",
    "- [Trader API](https://beta-developer.schwab.com/products/trader-api--individual/details/specifications/Retail%20Trader%20API%20Production)\n",
    "- [Market Data API](https://beta-developer.schwab.com/products/trader-api--individual/details/specifications/Market%20Data%20Production)\n",
    "\n",
    "I've created a custom settings file to abstract the API functionality."
   ]
  },
  {
   "cell_type": "code",
   "execution_count": 1,
   "id": "4d0dba74-c249-44bb-90d2-de23f4ab2e9e",
   "metadata": {},
   "outputs": [],
   "source": [
    "import settings.schwab as schwab\n",
    "auth = schwab.Authenticator()"
   ]
  },
  {
   "cell_type": "markdown",
   "id": "1068fdeb-c535-40c7-8de7-ed1318985e7b",
   "metadata": {},
   "source": [
    "## Login Microsite (LMS)\n",
    "\n",
    "To use the platform APIs, an authentication call is required. Schwab uses the OAuth 2 authorization framework, providing secure, delegated access over HTTPS using access tokens in place of credentials.\n",
    "\n",
    "The function below generates a link to authenticate in the platform and create a redirect URL. Double click the link and **log in**:"
   ]
  },
  {
   "cell_type": "code",
   "execution_count": 2,
   "id": "4eac3d2c-e8f0-4aef-87a4-edfa28f60d87",
   "metadata": {},
   "outputs": [
    {
     "data": {
      "text/plain": [
       "'https://api.schwabapi.com/v1/oauth/authorize?client_id=bWyEY8GGN843Bltl9v5vDOktXAq4F6tV&redirect_uri=https://127.0.0.1'"
      ]
     },
     "execution_count": 2,
     "metadata": {},
     "output_type": "execute_result"
    }
   ],
   "source": [
    "auth.get_auth_url()"
   ]
  },
  {
   "cell_type": "markdown",
   "id": "b3f49466-3ec6-46ff-9e77-e2ff8781119a",
   "metadata": {},
   "source": [
    "After logging in, accept the terms and you will be sent to a screen that appears to be a dead web page. This is the 'returned link'. Copy the address from the browser and paste it in the input below:"
   ]
  },
  {
   "cell_type": "code",
   "execution_count": 3,
   "id": "f987778b-31bd-491b-be88-b34d0b54f2c9",
   "metadata": {},
   "outputs": [
    {
     "name": "stdin",
     "output_type": "stream",
     "text": [
      "Returned Link: https://127.0.0.1/?code=C0.b2F1dGgyLmJkYy5zY2h3YWIuY29t.BCJ9qoH9igIzAsd1PH9BOgiQP-r6G041wp3rG2BOSv4%40&session=46b905a8-cd91-4f55-9e20-58ad34980ca9\n"
     ]
    }
   ],
   "source": [
    "returned_link = input('Returned Link:')"
   ]
  },
  {
   "cell_type": "markdown",
   "id": "9aa14436-0cee-42cb-8974-6ad908e0053e",
   "metadata": {},
   "source": [
    "This returned link is used in a request to obtain an \"access\" and \"refresh\" token from Schwab's servers. These tokens are written to a json file and managed through the \"auth\" class of the settings file."
   ]
  },
  {
   "cell_type": "code",
   "execution_count": null,
   "id": "df62e0c7-ae99-464a-af47-97379de0e100",
   "metadata": {},
   "outputs": [],
   "source": [
    "auth.get_tokens(returned_link)"
   ]
  },
  {
   "cell_type": "markdown",
   "id": "d0c3a234-6c89-46c9-a44b-08db183e3c12",
   "metadata": {},
   "source": [
    "*This notebook cell will continue to run ~ it refreshes your session on a timer, go use other notebooks.*"
   ]
  },
  {
   "cell_type": "markdown",
   "id": "2ec637f1-8adc-4ba8-aeba-913ffb97d180",
   "metadata": {},
   "source": [
    "## Refresh Tokens\n",
    "\n",
    "Access tokens are given 1800 seconds (half an hour) until they expire. When an access token expires, there is an easier way to authenticate than reusing the LMS.\n",
    "\n",
    "The refresh token sent in the response from Schwab can be used for up to 7 days. After 7 days, the refresh token will expire, requiring re-authorization through the micro-site using the approach above. If you are restarting the server after generating a valid 'tokens.json' file through the LMS, then simply running the cell block below will authorize a user to call the REST APIs.\n",
    "\n",
    "Keeping this notebook open and running will continously keep the 'tokens.json' file up to date. The auth class sets a timer to constantly use the refresh token every half hour to update the access token."
   ]
  },
  {
   "cell_type": "code",
   "execution_count": null,
   "id": "a58b5f43-fb30-4dd9-a544-d6b237f70a80",
   "metadata": {},
   "outputs": [],
   "source": [
    "auth.update_tokens()"
   ]
  }
 ],
 "metadata": {
  "kernelspec": {
   "display_name": "pyfi",
   "language": "python",
   "name": "pyfi"
  },
  "language_info": {
   "codemirror_mode": {
    "name": "ipython",
    "version": 3
   },
   "file_extension": ".py",
   "mimetype": "text/x-python",
   "name": "python",
   "nbconvert_exporter": "python",
   "pygments_lexer": "ipython3",
   "version": "3.12.3"
  }
 },
 "nbformat": 4,
 "nbformat_minor": 5
}
